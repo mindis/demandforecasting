{
 "cells": [
  {
   "cell_type": "code",
   "execution_count": 1,
   "metadata": {},
   "outputs": [
    {
     "name": "stderr",
     "output_type": "stream",
     "text": [
      "Using TensorFlow backend.\n"
     ]
    }
   ],
   "source": [
    "import tensorflow as tf\n",
    "import tensorflow_probability as tfp\n",
    "import numpy as np\n",
    "import pandas as pd\n",
    "import rpy2.robjects as robjects\n",
    "from rpy2.robjects import pandas2ri\n",
    "from keras.utils import to_categorical\n",
    "import tensorflow.keras.layers as k\n",
    "from scipy import stats"
   ]
  },
  {
   "cell_type": "code",
   "execution_count": 3,
   "metadata": {},
   "outputs": [],
   "source": [
    "# Data was generated using R so run this portion to convert RDS to pandas dataframe\n",
    "pandas2ri.activate()\n",
    "readRDS = robjects.r['readRDS']\n",
    "data = readRDS('demand_wide.RDS')\n",
    "data = pandas2ri.ri2py(data)"
   ]
  },
  {
   "cell_type": "code",
   "execution_count": 198,
   "metadata": {},
   "outputs": [],
   "source": [
    "windowSize = 52\n",
    "batchSize = 128\n",
    "testSize = 12"
   ]
  },
  {
   "cell_type": "code",
   "execution_count": 209,
   "metadata": {},
   "outputs": [],
   "source": [
    "def custom_data_gen(data, batchSize, probs, windowSize, testSize):\n",
    "    while True:\n",
    "        \n",
    "        # Sample rows according to their scale. The larger the scale, the higher the probability\n",
    "        # of sampling form that observation\n",
    "        # Then randomly sample a window fixed to length windowSize / testSize\n",
    "        rows = np.random.choice(range(0, data.shape[0]), size=batchSize, p=data[\"sampling_probability\"])\n",
    "        all_cols = [col for col in data if col.startswith('2')]\n",
    "        start = np.random.randint(0, len(all_cols) - windowSize - testSize, size=1)\n",
    "        train_cols = all_cols[int(start):int(start + windowSize)]\n",
    "        test_cols = all_cols[int(start + windowSize):int(start + windowSize + testSize)]\n",
    "        \n",
    "        # Store number and subclass will be passed to embedding layers\n",
    "        stores_train = data.iloc[rows,][\"store_number\"].tolist()\n",
    "        stores_train = np.repeat(stores_train, windowSize)\n",
    "        stores_train = np.reshape(stores_train, (batchSize, windowSize))\n",
    "        \n",
    "        biz_cd_train = data.iloc[rows,][\"biz_cd_int\"].tolist()\n",
    "        biz_cd_train = np.repeat(biz_cd_train, windowSize)\n",
    "        biz_cd_train = np.reshape(biz_cd_train, (batchSize, windowSize))\n",
    "        \n",
    "        # Scale factor is used to scale training dabiz_cdta and will be passed into model\n",
    "        # to be used to rescale the network output\n",
    "        scale_factor = data.iloc[rows,][\"scale_factor\"].tolist()\n",
    "        \n",
    "        week_train = [map(int, [week[-2:] for week in train_cols])]\n",
    "        week_train = np.repeat(week_train, batchSize, axis=0)\n",
    "        week_train = np.reshape(week_train, (batchSize, windowSize))\n",
    "\n",
    "        # week_test = to_categorical([map(int, [week[-2:] for week in test_cols])], num_classes=53)\n",
    "        # week_test = np.reshape(np.repeat(week_test, batchSize, axis=0), (batchSize, testSize, 53))\n",
    "        \n",
    "        x_data = data.iloc[rows,][train_cols].div(data.iloc[rows,][\"scale_factor\"], axis = 0).values\n",
    "        x_data = np.reshape(x_data, (batchSize, windowSize, 1))\n",
    "        # x_data = np.concatenate((x_data, week_train), axis=2)\n",
    "        \n",
    "        y_data = data.iloc[rows,][test_cols].values\n",
    "        y_data = np.reshape(y_data, (batchSize, testSize, 1))\n",
    "#         y_data = np.concatenate((y_data, week_test), axis=2)\n",
    "        \n",
    "        yield [x_data, np.array(biz_cd_train), np.array(stores_train), np.array(week_train), np.array(scale_factor), y_data], y_data"
   ]
  },
  {
   "cell_type": "code",
   "execution_count": 200,
   "metadata": {},
   "outputs": [
    {
     "data": {
      "text/html": [
       "<div>\n",
       "<style scoped>\n",
       "    .dataframe tbody tr th:only-of-type {\n",
       "        vertical-align: middle;\n",
       "    }\n",
       "\n",
       "    .dataframe tbody tr th {\n",
       "        vertical-align: top;\n",
       "    }\n",
       "\n",
       "    .dataframe thead th {\n",
       "        text-align: right;\n",
       "    }\n",
       "</style>\n",
       "<table border=\"1\" class=\"dataframe\">\n",
       "  <thead>\n",
       "    <tr style=\"text-align: right;\">\n",
       "      <th></th>\n",
       "      <th>product_id</th>\n",
       "      <th>store_number</th>\n",
       "      <th>biz_cd</th>\n",
       "      <th>201601</th>\n",
       "      <th>201602</th>\n",
       "      <th>201603</th>\n",
       "      <th>201604</th>\n",
       "      <th>201605</th>\n",
       "      <th>201606</th>\n",
       "      <th>201607</th>\n",
       "      <th>...</th>\n",
       "      <th>201721</th>\n",
       "      <th>201722</th>\n",
       "      <th>201723</th>\n",
       "      <th>201724</th>\n",
       "      <th>201725</th>\n",
       "      <th>201726</th>\n",
       "      <th>total_sales</th>\n",
       "      <th>scale_factor</th>\n",
       "      <th>sampling_probability</th>\n",
       "      <th>biz_cd_int</th>\n",
       "    </tr>\n",
       "  </thead>\n",
       "  <tbody>\n",
       "    <tr>\n",
       "      <th>1</th>\n",
       "      <td>1967548.0</td>\n",
       "      <td>667.0</td>\n",
       "      <td>260.15.1</td>\n",
       "      <td>0.0</td>\n",
       "      <td>2.0</td>\n",
       "      <td>3.0</td>\n",
       "      <td>0.0</td>\n",
       "      <td>2.0</td>\n",
       "      <td>0.0</td>\n",
       "      <td>2.0</td>\n",
       "      <td>...</td>\n",
       "      <td>0.0</td>\n",
       "      <td>0.0</td>\n",
       "      <td>0.0</td>\n",
       "      <td>0.0</td>\n",
       "      <td>0.0</td>\n",
       "      <td>0.0</td>\n",
       "      <td>131.0</td>\n",
       "      <td>2.039683</td>\n",
       "      <td>8.287731e-07</td>\n",
       "      <td>255</td>\n",
       "    </tr>\n",
       "    <tr>\n",
       "      <th>2</th>\n",
       "      <td>1967550.0</td>\n",
       "      <td>195.0</td>\n",
       "      <td>260.15.5</td>\n",
       "      <td>0.0</td>\n",
       "      <td>0.0</td>\n",
       "      <td>0.0</td>\n",
       "      <td>0.0</td>\n",
       "      <td>0.0</td>\n",
       "      <td>1.0</td>\n",
       "      <td>0.0</td>\n",
       "      <td>...</td>\n",
       "      <td>1.0</td>\n",
       "      <td>0.0</td>\n",
       "      <td>0.0</td>\n",
       "      <td>1.0</td>\n",
       "      <td>0.0</td>\n",
       "      <td>0.0</td>\n",
       "      <td>55.0</td>\n",
       "      <td>1.436508</td>\n",
       "      <td>5.836885e-07</td>\n",
       "      <td>259</td>\n",
       "    </tr>\n",
       "    <tr>\n",
       "      <th>3</th>\n",
       "      <td>1967724.0</td>\n",
       "      <td>7.0</td>\n",
       "      <td>260.10.2</td>\n",
       "      <td>0.0</td>\n",
       "      <td>0.0</td>\n",
       "      <td>0.0</td>\n",
       "      <td>2.0</td>\n",
       "      <td>2.0</td>\n",
       "      <td>0.0</td>\n",
       "      <td>1.0</td>\n",
       "      <td>...</td>\n",
       "      <td>0.0</td>\n",
       "      <td>0.0</td>\n",
       "      <td>0.0</td>\n",
       "      <td>0.0</td>\n",
       "      <td>0.0</td>\n",
       "      <td>0.0</td>\n",
       "      <td>119.0</td>\n",
       "      <td>1.944444</td>\n",
       "      <td>7.900755e-07</td>\n",
       "      <td>239</td>\n",
       "    </tr>\n",
       "    <tr>\n",
       "      <th>4</th>\n",
       "      <td>1967724.0</td>\n",
       "      <td>23.0</td>\n",
       "      <td>260.10.2</td>\n",
       "      <td>0.0</td>\n",
       "      <td>0.0</td>\n",
       "      <td>0.0</td>\n",
       "      <td>0.0</td>\n",
       "      <td>0.0</td>\n",
       "      <td>0.0</td>\n",
       "      <td>5.0</td>\n",
       "      <td>...</td>\n",
       "      <td>0.0</td>\n",
       "      <td>0.0</td>\n",
       "      <td>0.0</td>\n",
       "      <td>0.0</td>\n",
       "      <td>0.0</td>\n",
       "      <td>0.0</td>\n",
       "      <td>130.0</td>\n",
       "      <td>2.031746</td>\n",
       "      <td>8.255483e-07</td>\n",
       "      <td>239</td>\n",
       "    </tr>\n",
       "    <tr>\n",
       "      <th>5</th>\n",
       "      <td>1967724.0</td>\n",
       "      <td>31.0</td>\n",
       "      <td>260.10.2</td>\n",
       "      <td>0.0</td>\n",
       "      <td>0.0</td>\n",
       "      <td>0.0</td>\n",
       "      <td>0.0</td>\n",
       "      <td>0.0</td>\n",
       "      <td>0.0</td>\n",
       "      <td>0.0</td>\n",
       "      <td>...</td>\n",
       "      <td>0.0</td>\n",
       "      <td>0.0</td>\n",
       "      <td>2.0</td>\n",
       "      <td>0.0</td>\n",
       "      <td>0.0</td>\n",
       "      <td>0.0</td>\n",
       "      <td>43.0</td>\n",
       "      <td>1.341270</td>\n",
       "      <td>5.449909e-07</td>\n",
       "      <td>239</td>\n",
       "    </tr>\n",
       "  </tbody>\n",
       "</table>\n",
       "<p>5 rows × 85 columns</p>\n",
       "</div>"
      ],
      "text/plain": [
       "   product_id  store_number    biz_cd  201601  201602  201603  201604  201605  \\\n",
       "1   1967548.0         667.0  260.15.1     0.0     2.0     3.0     0.0     2.0   \n",
       "2   1967550.0         195.0  260.15.5     0.0     0.0     0.0     0.0     0.0   \n",
       "3   1967724.0           7.0  260.10.2     0.0     0.0     0.0     2.0     2.0   \n",
       "4   1967724.0          23.0  260.10.2     0.0     0.0     0.0     0.0     0.0   \n",
       "5   1967724.0          31.0  260.10.2     0.0     0.0     0.0     0.0     0.0   \n",
       "\n",
       "   201606  201607     ...      201721  201722  201723  201724  201725  201726  \\\n",
       "1     0.0     2.0     ...         0.0     0.0     0.0     0.0     0.0     0.0   \n",
       "2     1.0     0.0     ...         1.0     0.0     0.0     1.0     0.0     0.0   \n",
       "3     0.0     1.0     ...         0.0     0.0     0.0     0.0     0.0     0.0   \n",
       "4     0.0     5.0     ...         0.0     0.0     0.0     0.0     0.0     0.0   \n",
       "5     0.0     0.0     ...         0.0     0.0     2.0     0.0     0.0     0.0   \n",
       "\n",
       "   total_sales  scale_factor  sampling_probability  biz_cd_int  \n",
       "1        131.0      2.039683          8.287731e-07         255  \n",
       "2         55.0      1.436508          5.836885e-07         259  \n",
       "3        119.0      1.944444          7.900755e-07         239  \n",
       "4        130.0      2.031746          8.255483e-07         239  \n",
       "5         43.0      1.341270          5.449909e-07         239  \n",
       "\n",
       "[5 rows x 85 columns]"
      ]
     },
     "execution_count": 200,
     "metadata": {},
     "output_type": "execute_result"
    }
   ],
   "source": [
    "data.head()"
   ]
  },
  {
   "cell_type": "code",
   "execution_count": 196,
   "metadata": {},
   "outputs": [
    {
     "data": {
      "text/plain": [
       "array([[52,  1,  2],\n",
       "       [52,  1,  2]])"
      ]
     },
     "execution_count": 196,
     "metadata": {},
     "output_type": "execute_result"
    }
   ],
   "source": []
  },
  {
   "cell_type": "code",
   "execution_count": 162,
   "metadata": {},
   "outputs": [],
   "source": [
    "def custom_loss(y_true, y_pred):\n",
    "    y_pred = y_pred + 1e-7\n",
    "    y_true = y_true + 1e-7\n",
    "\n",
    "    # Need to extract input vectors and set the shapes of tensors\n",
    "    mu = tf.reshape(y_pred[:,:,0], [-1])\n",
    "    alpha = tf.reshape(y_pred[:,:,1], [-1])\n",
    "    scale = tf.reshape(y_pred[:,:,2], [-1])\n",
    "    y_true = tf.reshape(y_true[:,:,0], [-1])\n",
    "\n",
    "    # need to rescale mu and alpha\n",
    "    mu = mu * scale\n",
    "    alpha = alpha / tf.sqrt(scale)\n",
    "    \n",
    "    # Using tf probability to calculate log loss\n",
    "    loss = tfp.distributions.NegativeBinomial(mu, alpha).log_prob(y_true)\n",
    "\n",
    "    return -tf.reduce_sum(loss, axis=-1)"
   ]
  },
  {
   "cell_type": "code",
   "execution_count": 201,
   "metadata": {},
   "outputs": [],
   "source": [
    "# Set all input layers and embeddings\n",
    "input_demand = k.Input(shape = (windowSize, 1), name = 'demand')\n",
    "\n",
    "input_week = k.Input(shape = (windowSize,), name = 'week')\n",
    "week = k.Embedding(input_dim = 53, output_dim = 5)(input_week)\n",
    "\n",
    "input_store = k.Input(shape = (windowSize,), name = 'store')\n",
    "store = k.Embedding(input_dim = (int(data['store_number'].max() + 1)), output_dim = 25)(input_store)\n",
    "\n",
    "input_biz_cd = k.Input(shape = (windowSize,), name = 'biz_cd')\n",
    "biz_cd = k.Embedding(input_dim=(int(data['biz_cd_int'].max() + 1)), output_dim = 25)(input_biz_cd)\n",
    "\n",
    "# Inputs to the decoder, y_data during training, and samples during prediciton\n",
    "decoder_input = k.Input(shape=(testSize,1))\n",
    "\n",
    "# Scale factor will be passed directly to the output\n",
    "input_scale_factor = k.Input(shape = (1,), name = 'scale_factor')\n",
    "scale_factor = k.RepeatVector(testSize)(input_scale_factor)\n",
    "\n",
    "# Merge layers to pass into encoder layer\n",
    "merged = k.concatenate([input_demand, store, biz_cd, week])"
   ]
  },
  {
   "cell_type": "code",
   "execution_count": null,
   "metadata": {},
   "outputs": [],
   "source": []
  },
  {
   "cell_type": "code",
   "execution_count": 202,
   "metadata": {},
   "outputs": [],
   "source": [
    "# Encoder and embedding layers\n",
    "encoder = k.LSTM(units = 128, activation = 'tanh', return_sequences=True)(merged)\n",
    "encoder, state_h, state_c = k.LSTM(128, return_state=True, activation = 'tanh')(encoder)\n",
    "encoder_states = [state_h, state_c]"
   ]
  },
  {
   "cell_type": "code",
   "execution_count": null,
   "metadata": {},
   "outputs": [],
   "source": [
    " "
   ]
  },
  {
   "cell_type": "code",
   "execution_count": null,
   "metadata": {},
   "outputs": [],
   "source": []
  },
  {
   "cell_type": "code",
   "execution_count": 203,
   "metadata": {},
   "outputs": [],
   "source": [
    "# Decoder LSTM with predictions\n",
    "decoder_lstm = k.LSTM(128, return_sequences=True, return_state=True)\n",
    "decoder, _, _ = decoder_lstm(decoder_input, initial_state=encoder_states)\n",
    "predictions = k.LSTM(128, return_sequences=True, activation='tanh')(decoder)\n",
    "predictions = k.TimeDistributed(k.Dense(256, activation = 'relu'))(predictions)\n",
    "predictions = k.TimeDistributed(k.Dense(2, activation = 'softplus'))(predictions)\n",
    "output = k.concatenate([predictions, scale_factor])"
   ]
  },
  {
   "cell_type": "code",
   "execution_count": 206,
   "metadata": {},
   "outputs": [],
   "source": [
    "# Append the scale factor to the end to be used in loss function for training\n",
    "model = tf.keras.models.Model([input_demand, input_biz_cd, input_store, input_week, input_scale_factor, decoder_input], outputs = output)\n",
    "model.compile(optimizer='adam', loss = custom_loss)"
   ]
  },
  {
   "cell_type": "code",
   "execution_count": 210,
   "metadata": {},
   "outputs": [],
   "source": [
    "train_gen = custom_data_gen(data=data, batchSize=batchSize, \n",
    "                                              probs=data[\"sampling_probability\"].tolist(), \n",
    "                                              testSize=testSize, windowSize=windowSize)\n",
    "test_gen = custom_data_gen(data=data, batchSize=1, \n",
    "                                              probs=data[\"sampling_probability\"].tolist(), \n",
    "                                              testSize=testSize, windowSize=windowSize)"
   ]
  },
  {
   "cell_type": "code",
   "execution_count": 211,
   "metadata": {},
   "outputs": [
    {
     "name": "stdout",
     "output_type": "stream",
     "text": [
      "Epoch 1/1\n",
      " 9041/10048 [=========================>....] - ETA: 3:54 - loss: 1461.9598"
     ]
    },
    {
     "ename": "KeyboardInterrupt",
     "evalue": "",
     "output_type": "error",
     "traceback": [
      "\u001b[0;31m---------------------------------------------------------------------------\u001b[0m",
      "\u001b[0;31mKeyboardInterrupt\u001b[0m                         Traceback (most recent call last)",
      "\u001b[0;32m<ipython-input-211-b32005bb93f3>\u001b[0m in \u001b[0;36m<module>\u001b[0;34m()\u001b[0m\n\u001b[0;32m----> 1\u001b[0;31m \u001b[0mmodel\u001b[0m\u001b[0;34m.\u001b[0m\u001b[0mfit_generator\u001b[0m\u001b[0;34m(\u001b[0m\u001b[0mgenerator\u001b[0m\u001b[0;34m=\u001b[0m\u001b[0mtrain_gen\u001b[0m\u001b[0;34m,\u001b[0m \u001b[0msteps_per_epoch\u001b[0m\u001b[0;34m=\u001b[0m \u001b[0mdata\u001b[0m\u001b[0;34m.\u001b[0m\u001b[0mshape\u001b[0m\u001b[0;34m[\u001b[0m\u001b[0;36m0\u001b[0m\u001b[0;34m]\u001b[0m \u001b[0;34m/\u001b[0m \u001b[0mbatchSize\u001b[0m\u001b[0;34m,\u001b[0m \u001b[0mepochs\u001b[0m\u001b[0;34m=\u001b[0m\u001b[0;36m1\u001b[0m\u001b[0;34m)\u001b[0m\u001b[0;34m\u001b[0m\u001b[0m\n\u001b[0m",
      "\u001b[0;32m/usr/local/lib/python2.7/dist-packages/tensorflow/python/keras/engine/training.pyc\u001b[0m in \u001b[0;36mfit_generator\u001b[0;34m(self, generator, steps_per_epoch, epochs, verbose, callbacks, validation_data, validation_steps, class_weight, max_queue_size, workers, use_multiprocessing, shuffle, initial_epoch)\u001b[0m\n\u001b[1;32m   2175\u001b[0m         \u001b[0muse_multiprocessing\u001b[0m\u001b[0;34m=\u001b[0m\u001b[0muse_multiprocessing\u001b[0m\u001b[0;34m,\u001b[0m\u001b[0;34m\u001b[0m\u001b[0m\n\u001b[1;32m   2176\u001b[0m         \u001b[0mshuffle\u001b[0m\u001b[0;34m=\u001b[0m\u001b[0mshuffle\u001b[0m\u001b[0;34m,\u001b[0m\u001b[0;34m\u001b[0m\u001b[0m\n\u001b[0;32m-> 2177\u001b[0;31m         initial_epoch=initial_epoch)\n\u001b[0m\u001b[1;32m   2178\u001b[0m \u001b[0;34m\u001b[0m\u001b[0m\n\u001b[1;32m   2179\u001b[0m   def evaluate_generator(self,\n",
      "\u001b[0;32m/usr/local/lib/python2.7/dist-packages/tensorflow/python/keras/engine/training_generator.pyc\u001b[0m in \u001b[0;36mfit_generator\u001b[0;34m(model, generator, steps_per_epoch, epochs, verbose, callbacks, validation_data, validation_steps, class_weight, max_queue_size, workers, use_multiprocessing, shuffle, initial_epoch)\u001b[0m\n\u001b[1;32m    174\u001b[0m \u001b[0;34m\u001b[0m\u001b[0m\n\u001b[1;32m    175\u001b[0m         outs = model.train_on_batch(\n\u001b[0;32m--> 176\u001b[0;31m             x, y, sample_weight=sample_weight, class_weight=class_weight)\n\u001b[0m\u001b[1;32m    177\u001b[0m \u001b[0;34m\u001b[0m\u001b[0m\n\u001b[1;32m    178\u001b[0m         \u001b[0;32mif\u001b[0m \u001b[0;32mnot\u001b[0m \u001b[0misinstance\u001b[0m\u001b[0;34m(\u001b[0m\u001b[0mouts\u001b[0m\u001b[0;34m,\u001b[0m \u001b[0mlist\u001b[0m\u001b[0;34m)\u001b[0m\u001b[0;34m:\u001b[0m\u001b[0;34m\u001b[0m\u001b[0m\n",
      "\u001b[0;32m/usr/local/lib/python2.7/dist-packages/tensorflow/python/keras/engine/training.pyc\u001b[0m in \u001b[0;36mtrain_on_batch\u001b[0;34m(self, x, y, sample_weight, class_weight)\u001b[0m\n\u001b[1;32m   1938\u001b[0m \u001b[0;34m\u001b[0m\u001b[0m\n\u001b[1;32m   1939\u001b[0m       \u001b[0mself\u001b[0m\u001b[0;34m.\u001b[0m\u001b[0m_make_train_function\u001b[0m\u001b[0;34m(\u001b[0m\u001b[0;34m)\u001b[0m\u001b[0;34m\u001b[0m\u001b[0m\n\u001b[0;32m-> 1940\u001b[0;31m       \u001b[0moutputs\u001b[0m \u001b[0;34m=\u001b[0m \u001b[0mself\u001b[0m\u001b[0;34m.\u001b[0m\u001b[0mtrain_function\u001b[0m\u001b[0;34m(\u001b[0m\u001b[0mins\u001b[0m\u001b[0;34m)\u001b[0m\u001b[0;34m\u001b[0m\u001b[0m\n\u001b[0m\u001b[1;32m   1941\u001b[0m \u001b[0;34m\u001b[0m\u001b[0m\n\u001b[1;32m   1942\u001b[0m     \u001b[0;32mif\u001b[0m \u001b[0mlen\u001b[0m\u001b[0;34m(\u001b[0m\u001b[0moutputs\u001b[0m\u001b[0;34m)\u001b[0m \u001b[0;34m==\u001b[0m \u001b[0;36m1\u001b[0m\u001b[0;34m:\u001b[0m\u001b[0;34m\u001b[0m\u001b[0m\n",
      "\u001b[0;32m/usr/local/lib/python2.7/dist-packages/tensorflow/python/keras/backend.pyc\u001b[0m in \u001b[0;36m__call__\u001b[0;34m(self, inputs)\u001b[0m\n\u001b[1;32m   2984\u001b[0m \u001b[0;34m\u001b[0m\u001b[0m\n\u001b[1;32m   2985\u001b[0m     fetched = self._callable_fn(*array_vals,\n\u001b[0;32m-> 2986\u001b[0;31m                                 run_metadata=self.run_metadata)\n\u001b[0m\u001b[1;32m   2987\u001b[0m     \u001b[0mself\u001b[0m\u001b[0;34m.\u001b[0m\u001b[0m_call_fetch_callbacks\u001b[0m\u001b[0;34m(\u001b[0m\u001b[0mfetched\u001b[0m\u001b[0;34m[\u001b[0m\u001b[0;34m-\u001b[0m\u001b[0mlen\u001b[0m\u001b[0;34m(\u001b[0m\u001b[0mself\u001b[0m\u001b[0;34m.\u001b[0m\u001b[0m_fetches\u001b[0m\u001b[0;34m)\u001b[0m\u001b[0;34m:\u001b[0m\u001b[0;34m]\u001b[0m\u001b[0;34m)\u001b[0m\u001b[0;34m\u001b[0m\u001b[0m\n\u001b[1;32m   2988\u001b[0m     \u001b[0;32mreturn\u001b[0m \u001b[0mfetched\u001b[0m\u001b[0;34m[\u001b[0m\u001b[0;34m:\u001b[0m\u001b[0mlen\u001b[0m\u001b[0;34m(\u001b[0m\u001b[0mself\u001b[0m\u001b[0;34m.\u001b[0m\u001b[0moutputs\u001b[0m\u001b[0;34m)\u001b[0m\u001b[0;34m]\u001b[0m\u001b[0;34m\u001b[0m\u001b[0m\n",
      "\u001b[0;32m/usr/local/lib/python2.7/dist-packages/tensorflow/python/client/session.pyc\u001b[0m in \u001b[0;36m__call__\u001b[0;34m(self, *args, **kwargs)\u001b[0m\n\u001b[1;32m   1437\u001b[0m           ret = tf_session.TF_SessionRunCallable(\n\u001b[1;32m   1438\u001b[0m               \u001b[0mself\u001b[0m\u001b[0;34m.\u001b[0m\u001b[0m_session\u001b[0m\u001b[0;34m.\u001b[0m\u001b[0m_session\u001b[0m\u001b[0;34m,\u001b[0m \u001b[0mself\u001b[0m\u001b[0;34m.\u001b[0m\u001b[0m_handle\u001b[0m\u001b[0;34m,\u001b[0m \u001b[0margs\u001b[0m\u001b[0;34m,\u001b[0m \u001b[0mstatus\u001b[0m\u001b[0;34m,\u001b[0m\u001b[0;34m\u001b[0m\u001b[0m\n\u001b[0;32m-> 1439\u001b[0;31m               run_metadata_ptr)\n\u001b[0m\u001b[1;32m   1440\u001b[0m         \u001b[0;32mif\u001b[0m \u001b[0mrun_metadata\u001b[0m\u001b[0;34m:\u001b[0m\u001b[0;34m\u001b[0m\u001b[0m\n\u001b[1;32m   1441\u001b[0m           \u001b[0mproto_data\u001b[0m \u001b[0;34m=\u001b[0m \u001b[0mtf_session\u001b[0m\u001b[0;34m.\u001b[0m\u001b[0mTF_GetBuffer\u001b[0m\u001b[0;34m(\u001b[0m\u001b[0mrun_metadata_ptr\u001b[0m\u001b[0;34m)\u001b[0m\u001b[0;34m\u001b[0m\u001b[0m\n",
      "\u001b[0;31mKeyboardInterrupt\u001b[0m: "
     ]
    }
   ],
   "source": [
    "model.fit_generator(generator=train_gen, steps_per_epoch= data.shape[0] / batchSize, epochs=1)"
   ]
  },
  {
   "cell_type": "markdown",
   "metadata": {},
   "source": [
    "  "
   ]
  },
  {
   "cell_type": "code",
   "execution_count": 138,
   "metadata": {},
   "outputs": [
    {
     "data": {
      "text/plain": [
       "array([[[22.],\n",
       "        [ 2.],\n",
       "        [ 1.],\n",
       "        [ 8.],\n",
       "        [ 9.],\n",
       "        [ 4.],\n",
       "        [ 8.],\n",
       "        [ 1.],\n",
       "        [13.],\n",
       "        [ 8.],\n",
       "        [ 4.],\n",
       "        [ 0.]]])"
      ]
     },
     "execution_count": 138,
     "metadata": {},
     "output_type": "execute_result"
    }
   ],
   "source": [
    "test = next(test_gen)\n",
    "pred = model.predict(test[0]) \n",
    "check = test[1]\n",
    "check"
   ]
  },
  {
   "cell_type": "code",
   "execution_count": 139,
   "metadata": {},
   "outputs": [],
   "source": [
    "mu = pred[:,:,0] * pred[:,:,2]\n",
    "alpha = (pred[:,:,1] / np.sqrt(pred[:,:,2]))\n",
    "mu = np.reshape(mu, -1)\n",
    "alpha = np.reshape(alpha, -1)"
   ]
  },
  {
   "cell_type": "code",
   "execution_count": 141,
   "metadata": {},
   "outputs": [
    {
     "data": {
      "text/plain": [
       "array([3.6005523e+00, 2.4367089e+00, 1.8613114e+00, 6.0634184e+00,\n",
       "       5.8134408e+00, 4.6657891e+00, 6.6204052e+00, 1.6582885e+00,\n",
       "       7.4597311e+00, 6.3818827e+00, 4.4113550e+00, 7.8171300e-04],\n",
       "      dtype=float32)"
      ]
     },
     "execution_count": 141,
     "metadata": {},
     "output_type": "execute_result"
    }
   ],
   "source": [
    "mu"
   ]
  },
  {
   "cell_type": "code",
   "execution_count": 143,
   "metadata": {},
   "outputs": [
    {
     "data": {
      "text/plain": [
       "array([33.,  1.,  2.,  9.,  9., 11., 16.,  4.,  4., 21.,  6.,  0.],\n",
       "      dtype=float32)"
      ]
     },
     "execution_count": 143,
     "metadata": {},
     "output_type": "execute_result"
    }
   ],
   "source": [
    "outcomes = tfp.distributions.NegativeBinomial(mu, alpha)\n",
    "sess = tf.Session()\n",
    "sess.run(outcomes.sample())"
   ]
  },
  {
   "cell_type": "code",
   "execution_count": 146,
   "metadata": {},
   "outputs": [],
   "source": [
    "encoder_model = tf.keras.models.Model([input_demand, encoder_states])"
   ]
  },
  {
   "cell_type": "code",
   "execution_count": 38,
   "metadata": {},
   "outputs": [],
   "source": []
  },
  {
   "cell_type": "code",
   "execution_count": null,
   "metadata": {},
   "outputs": [],
   "source": []
  },
  {
   "cell_type": "code",
   "execution_count": 16,
   "metadata": {},
   "outputs": [],
   "source": []
  },
  {
   "cell_type": "code",
   "execution_count": null,
   "metadata": {},
   "outputs": [],
   "source": []
  }
 ],
 "metadata": {
  "kernelspec": {
   "display_name": "Python 2",
   "language": "python",
   "name": "python2"
  },
  "language_info": {
   "codemirror_mode": {
    "name": "ipython",
    "version": 2
   },
   "file_extension": ".py",
   "mimetype": "text/x-python",
   "name": "python",
   "nbconvert_exporter": "python",
   "pygments_lexer": "ipython2",
   "version": "2.7.12"
  }
 },
 "nbformat": 4,
 "nbformat_minor": 2
}
