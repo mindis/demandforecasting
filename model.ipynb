{
 "cells": [
  {
   "cell_type": "code",
   "execution_count": 1,
   "metadata": {},
   "outputs": [
    {
     "name": "stderr",
     "output_type": "stream",
     "text": [
      "Using TensorFlow backend.\n"
     ]
    }
   ],
   "source": [
    "import tensorflow as tf\n",
    "import tensorflow_probability as tfp\n",
    "import numpy as np\n",
    "import pandas as pd\n",
    "import rpy2.robjects as robjects\n",
    "from rpy2.robjects import pandas2ri\n",
    "from keras.utils import to_categorical\n",
    "import tensorflow.keras.layers as k\n",
    "from scipy import stats"
   ]
  },
  {
   "cell_type": "code",
   "execution_count": 7,
   "metadata": {},
   "outputs": [],
   "source": [
    "# Data was generated using R so run this portion to convert RDS to pandas dataframe\n",
    "pandas2ri.activate()\n",
    "readRDS = robjects.r['readRDS']\n",
    "data = readRDS('demand_wide.RDS')\n",
    "data = pandas2ri.ri2py(data)"
   ]
  },
  {
   "cell_type": "code",
   "execution_count": 44,
   "metadata": {},
   "outputs": [],
   "source": [
    "windowSize = 3\n",
    "batchSize = 1\n",
    "testSize = 2"
   ]
  },
  {
   "cell_type": "code",
   "execution_count": 48,
   "metadata": {},
   "outputs": [],
   "source": [
    "        # Sample rows according to their scale. The larger the scale, the higher the probability\n",
    "        # of sampling form that observation\n",
    "        # Then randomly sample a window fixed to length windowSize / testSize\n",
    "        rows = np.random.choice(range(0, data.shape[0]), size=batchSize, p=data[\"sampling_probability\"])\n",
    "        all_cols = [col for col in data if col.startswith('2')]\n",
    "        start = np.random.randint(0, len(all_cols) - windowSize - testSize, size=1)\n",
    "        train_cols = all_cols[int(start):int(start + windowSize)]\n",
    "        test_cols = all_cols[int(start + windowSize):int(start + windowSize + testSize)]\n",
    "        \n",
    "        # Store number and subclass will be passed to embedding layers\n",
    "        stores_train = data.iloc[rows,][\"store_number\"].tolist()\n",
    "        biz_cd_train = data.iloc[rows,][\"biz_cd_int\"].tolist()\n",
    "        \n",
    "        # Scale factor is used to scale training data and will be passed into model\n",
    "        # to be used to rescale the network output\n",
    "        scale_factor = data.iloc[rows,][\"scale_factor\"].tolist()\n",
    "        \n",
    "        # We set the max number of classes to 53\n",
    "        week_train = [map(int, [week[-2:] for week in train_cols])]\n",
    "        week_train = np.reshape(week_train, (batchSize, windowSize, 1))\n",
    "        # week_train = np.reshape(np.repeat(week_train, batchSize, axis=0), (batchSize, windowSize, 53))\n",
    "\n",
    "        week_test = to_categorical([map(int, [week[-2:] for week in test_cols])], num_classes=53)\n",
    "        week_test = np.reshape(np.repeat(week_test, batchSize, axis=0), (batchSize, testSize, 53))\n",
    "        \n",
    "        x_data = data.iloc[rows,][train_cols].div(data.iloc[rows,][\"scale_factor\"], axis = 0).values\n",
    "        x_data = np.reshape(x_data, (batchSize, windowSize, 1))\n",
    "        x_data = np.concatenate((x_data, week_train), axis=2)\n",
    "        \n",
    "        y_data = data.iloc[rows,][test_cols].values\n",
    "        y_data = np.reshape(y_data, (batchSize, testSize, 1))\n",
    "#         y_data = np.concatenate((y_data, week_test), axis=2)"
   ]
  },
  {
   "cell_type": "code",
   "execution_count": 50,
   "metadata": {},
   "outputs": [
    {
     "data": {
      "text/plain": [
       "array([[[ 0.        , 27.        ],\n",
       "        [ 0.        , 28.        ],\n",
       "        [ 0.68108108, 29.        ]]])"
      ]
     },
     "execution_count": 50,
     "metadata": {},
     "output_type": "execute_result"
    }
   ],
   "source": []
  },
  {
   "cell_type": "code",
   "execution_count": 51,
   "metadata": {},
   "outputs": [
    {
     "ename": "StopIteration",
     "evalue": "",
     "output_type": "error",
     "traceback": [
      "\u001b[0;31m---------------------------------------------------------------------------\u001b[0m",
      "\u001b[0;31mStopIteration\u001b[0m                             Traceback (most recent call last)",
      "\u001b[0;32m<ipython-input-51-434f8dec8756>\u001b[0m in \u001b[0;36m<module>\u001b[0;34m()\u001b[0m\n\u001b[0;32m----> 1\u001b[0;31m \u001b[0mcheck\u001b[0m \u001b[0;34m=\u001b[0m \u001b[0mnext\u001b[0m\u001b[0;34m(\u001b[0m\u001b[0mtrain_gen\u001b[0m\u001b[0;34m)\u001b[0m\u001b[0;34m\u001b[0m\u001b[0m\n\u001b[0m",
      "\u001b[0;31mStopIteration\u001b[0m: "
     ]
    }
   ],
   "source": [
    "check = next(train_gen)"
   ]
  },
  {
   "cell_type": "code",
   "execution_count": 41,
   "metadata": {},
   "outputs": [
    {
     "data": {
      "text/plain": [
       "array([0., 0., 0., 0., 0., 0., 0., 0., 0., 0., 0., 0., 0., 0., 0., 0., 0.,\n",
       "       0., 0., 0., 0., 0., 0., 1., 0., 0., 0., 0., 0., 0., 0., 0., 0., 0.,\n",
       "       0., 0., 0., 0., 0., 0., 0., 0., 0., 0., 0., 0., 0., 0., 0., 0., 0.,\n",
       "       0., 0., 0.])"
      ]
     },
     "execution_count": 41,
     "metadata": {},
     "output_type": "execute_result"
    }
   ],
   "source": []
  },
  {
   "cell_type": "code",
   "execution_count": 42,
   "metadata": {},
   "outputs": [],
   "source": [
    "def custom_data_gen(data, batchSize, probs, windowSize, testSize):\n",
    "    while True:\n",
    "        \n",
    "        # Sample rows according to their scale. The larger the scale, the higher the probability\n",
    "        # of sampling form that observation\n",
    "        # Then randomly sample a window fixed to length windowSize / testSize\n",
    "        rows = np.random.choice(range(0, data.shape[0]), size=batchSize, p=data[\"sampling_probability\"])\n",
    "        all_cols = [col for col in data if col.startswith('2')]\n",
    "        start = np.random.randint(0, len(all_cols) - windowSize - testSize, size=1)\n",
    "        train_cols = all_cols[int(start):int(start + windowSize)]\n",
    "        test_cols = all_cols[int(start + windowSize):int(start + windowSize + testSize)]\n",
    "        \n",
    "        # Store number and subclass will be passed to embedding layers\n",
    "        stores_train = data.iloc[rows,][\"store_number\"].tolist()\n",
    "        biz_cd_train = data.iloc[rows,][\"biz_cd_int\"].tolist()\n",
    "        \n",
    "        # Scale factor is used to scale training data and will be passed into model\n",
    "        # to be used to rescale the network output\n",
    "        scale_factor = data.iloc[rows,][\"scale_factor\"].tolist()\n",
    "        \n",
    "        # We set the max number of classes to 53\n",
    "        week_train = [map(int, [week[-2:] for week in train_cols])]\n",
    "        # week_train = np.reshape(np.repeat(week_train, batchSize, axis=0), (batchSize, windowSize, 53))\n",
    "\n",
    "        week_test = to_categorical([map(int, [week[-2:] for week in test_cols])], num_classes=53)\n",
    "        week_test = np.reshape(np.repeat(week_test, batchSize, axis=0), (batchSize, testSize, 53))\n",
    "        \n",
    "        x_data = data.iloc[rows,][train_cols].div(data.iloc[rows,][\"scale_factor\"], axis = 0).values\n",
    "        x_data = np.reshape(x_data, (batchSize, windowSize, 1))\n",
    "        x_data = np.concatenate((x_data, week_train), axis=2)\n",
    "        \n",
    "        y_data = data.iloc[rows,][test_cols].values\n",
    "        y_data = np.reshape(y_data, (batchSize, testSize, 1))\n",
    "#         y_data = np.concatenate((y_data, week_test), axis=2)\n",
    "        \n",
    "        yield [x_data, np.array(biz_cd_train), np.array(scale_factor), np.array(stores_train)], y_data"
   ]
  },
  {
   "cell_type": "code",
   "execution_count": 5,
   "metadata": {},
   "outputs": [],
   "source": [
    "def custom_loss(y_true, y_pred):\n",
    "    y_pred = y_pred + 1e-7\n",
    "    y_true = y_true + 1e-7\n",
    "\n",
    "    # Need to extract input vectors and set the shapes of tensors\n",
    "    mu = tf.reshape(y_pred[:,:,0], [-1])\n",
    "    alpha = tf.reshape(y_pred[:,:,1], [-1])\n",
    "    scale = tf.reshape(y_pred[:,:,2], [-1])\n",
    "    y_true = tf.reshape(y_true[:,:,0], [-1])\n",
    "\n",
    "    # need to rescale mu and alpha\n",
    "    mu = mu * scale\n",
    "    alpha = alpha / tf.sqrt(scale)\n",
    "    \n",
    "    # Using tf probability to calculate log loss\n",
    "    loss = tfp.distributions.NegativeBinomial(mu, alpha).log_prob(y_true)\n",
    "\n",
    "    return -tf.reduce_sum(loss, axis=-1)"
   ]
  },
  {
   "cell_type": "code",
   "execution_count": 8,
   "metadata": {},
   "outputs": [],
   "source": [
    "# Set all input layers\n",
    "input_demand = k.Input(shape = (windowSize, 54), name = 'demand')\n",
    "input_store = k.Input(shape = (1,), name = 'store')\n",
    "input_biz_cd = k.Input(shape = (1,), name = 'biz_cd')\n",
    "input_scale_factor = k.Input(shape = (1,), name = 'scale_factor')"
   ]
  },
  {
   "cell_type": "code",
   "execution_count": 9,
   "metadata": {},
   "outputs": [],
   "source": [
    "# 2nd Level models\n",
    "demand = k.LSTM(units = 128, activation = 'tanh')(input_demand)\n",
    "\n",
    "store = k.Embedding(input_dim = (int(data['store_number'].max() + 1)), output_dim = 25)(input_store)\n",
    "store = k.Flatten()(store)\n",
    "\n",
    "biz_cd = k.Embedding(input_dim=(int(data['biz_cd_int'].max() + 1)), output_dim = 25)(input_biz_cd)\n",
    "biz_cd = k.Flatten()(biz_cd)\n",
    "\n",
    "scale_factor = k.RepeatVector(testSize)(input_scale_factor)"
   ]
  },
  {
   "cell_type": "code",
   "execution_count": 10,
   "metadata": {},
   "outputs": [],
   "source": [
    "# Merged Level\n",
    "merged_level = k.concatenate([demand, store, biz_cd])\n",
    "merged_level = k.Dense(256, activation='relu')(merged_level)"
   ]
  },
  {
   "cell_type": "code",
   "execution_count": 11,
   "metadata": {},
   "outputs": [],
   "source": [
    "# Decoder LSTM with predictions\n",
    "predictions = k.RepeatVector(testSize)(merged_level)\n",
    "predictions = k.LSTM(256, return_sequences=True, activation='tanh')(predictions)\n",
    "predictions = k.TimeDistributed(k.Dense(256, activation = 'relu'))(predictions)\n",
    "predictions = k.TimeDistributed(k.Dense(2, activation = 'softplus'))(predictions)"
   ]
  },
  {
   "cell_type": "code",
   "execution_count": 12,
   "metadata": {},
   "outputs": [],
   "source": [
    "# Append the scale factor to the end to be used in loss function for training\n",
    "output = k.concatenate([predictions, scale_factor])\n",
    "model = tf.keras.models.Model([input_demand, input_store, input_biz_cd, input_scale_factor], outputs = output)\n",
    "model.compile(optimizer='adam', loss = custom_loss)"
   ]
  },
  {
   "cell_type": "code",
   "execution_count": 43,
   "metadata": {},
   "outputs": [],
   "source": [
    "train_gen = custom_data_gen(data=data, batchSize=batchSize, \n",
    "                                              probs=data[\"sampling_probability\"].tolist(), \n",
    "                                              testSize=testSize, windowSize=windowSize)\n",
    "test_gen = custom_data_gen(data=data, batchSize=1, \n",
    "                                              probs=data[\"sampling_probability\"].tolist(), \n",
    "                                              testSize=testSize, windowSize=windowSize)"
   ]
  },
  {
   "cell_type": "code",
   "execution_count": 152,
   "metadata": {},
   "outputs": [
    {
     "name": "stdout",
     "output_type": "stream",
     "text": [
      "Epoch 1/5\n",
      "10048/10048 [==============================] - 1285s 128ms/step - loss: 8372.1150\n",
      "Epoch 2/5\n",
      "10048/10048 [==============================] - 1276s 127ms/step - loss: 8358.4048\n",
      "Epoch 3/5\n",
      "10048/10048 [==============================] - 1271s 127ms/step - loss: 8370.0959\n",
      "Epoch 4/5\n",
      "10048/10048 [==============================] - 1270s 126ms/step - loss: 8364.6100\n",
      "Epoch 5/5\n",
      "10048/10048 [==============================] - 1264s 126ms/step - loss: 8376.4751\n"
     ]
    },
    {
     "data": {
      "text/plain": [
       "<tensorflow.python.keras.callbacks.History at 0x7f82c403fed0>"
      ]
     },
     "execution_count": 152,
     "metadata": {},
     "output_type": "execute_result"
    }
   ],
   "source": [
    "model.fit_generator(generator=train_gen, steps_per_epoch= data.shape[0] / batchSize, epochs=5)"
   ]
  },
  {
   "cell_type": "markdown",
   "metadata": {},
   "source": [
    "  "
   ]
  },
  {
   "cell_type": "code",
   "execution_count": 160,
   "metadata": {},
   "outputs": [],
   "source": [
    "test = next(test_gen)\n",
    "pred = model.predict(test[0]) "
   ]
  },
  {
   "cell_type": "code",
   "execution_count": 161,
   "metadata": {},
   "outputs": [
    {
     "data": {
      "text/plain": [
       "array([[[ 9.],\n",
       "        [11.],\n",
       "        [ 8.],\n",
       "        [13.],\n",
       "        [ 6.],\n",
       "        [ 8.],\n",
       "        [ 9.],\n",
       "        [ 8.],\n",
       "        [14.],\n",
       "        [12.],\n",
       "        [ 6.],\n",
       "        [18.]]])"
      ]
     },
     "execution_count": 161,
     "metadata": {},
     "output_type": "execute_result"
    }
   ],
   "source": [
    "check = test[1]\n",
    "check"
   ]
  },
  {
   "cell_type": "code",
   "execution_count": 164,
   "metadata": {},
   "outputs": [],
   "source": [
    "mu = pred[:,:,0] * pred[:,:,2]\n",
    "alpha = (pred[:,:,1] / np.sqrt(pred[:,:,2]))\n",
    "mu = np.reshape(mu, -1)\n",
    "alpha = np.reshape(alpha, -1)"
   ]
  },
  {
   "cell_type": "code",
   "execution_count": 167,
   "metadata": {},
   "outputs": [
    {
     "data": {
      "text/plain": [
       "array([3.0144993e-09, 5.5233938e-12, 2.1023302e-12, 1.8403772e-12,\n",
       "       1.8074475e-12, 1.8030471e-12, 1.8024419e-12, 1.8023594e-12,\n",
       "       1.8023457e-12, 1.8023457e-12, 1.8023457e-12, 1.8023457e-12],\n",
       "      dtype=float32)"
      ]
     },
     "execution_count": 167,
     "metadata": {},
     "output_type": "execute_result"
    }
   ],
   "source": [
    "outcomes = tfp.distributions.NegativeBinomial(mu, alpha)\n",
    "sess = tf.Session()\n",
    "sess.run(outcomes.sample())\n",
    "mu"
   ]
  },
  {
   "cell_type": "code",
   "execution_count": 95,
   "metadata": {},
   "outputs": [
    {
     "data": {
      "text/plain": [
       "<tfp.distributions.NegativeBinomial 'NegativeBinomial_2/' batch_shape=(3, 12) event_shape=() dtype=float32>"
      ]
     },
     "execution_count": 95,
     "metadata": {},
     "output_type": "execute_result"
    }
   ],
   "source": []
  },
  {
   "cell_type": "code",
   "execution_count": 38,
   "metadata": {},
   "outputs": [],
   "source": [
    "def get_nb_vals(mu, alpha, size):\n",
    "    \"\"\"Generate negative binomially distributed samples by\n",
    "    drawing a sample from a gamma distribution with mean `mu` and\n",
    "    shape parameter `alpha', then drawing from a Poisson\n",
    "    distribution whose rate parameter is given by the sampled\n",
    "    gamma variable.\"\"\"\n",
    "\n",
    "    g = stats.gamma.rvs(alpha, scale=mu / alpha, size=size)\n",
    "    return stats.poisson.rvs(g)"
   ]
  },
  {
   "cell_type": "code",
   "execution_count": 65,
   "metadata": {},
   "outputs": [
    {
     "data": {
      "text/plain": [
       "array([25, 13, 20, 27, 27, 32, 26, 18, 41, 27])"
      ]
     },
     "execution_count": 65,
     "metadata": {},
     "output_type": "execute_result"
    }
   ],
   "source": [
    "get_nb_vals(25,24,10)"
   ]
  },
  {
   "cell_type": "code",
   "execution_count": 16,
   "metadata": {},
   "outputs": [],
   "source": [
    "        rows = np.random.choice(range(0, data.shape[0]), size=batchSize, p=data[\"sampling_probability\"])\n",
    "        all_cols = [col for col in data if col.startswith('2')]\n",
    "        start = np.random.randint(0, len(all_cols) - windowSize - testSize, size=1)\n",
    "        train_cols = all_cols[int(start):int(start + windowSize)]\n",
    "        test_cols = all_cols[int(start + windowSize):int(start + windowSize + testSize)]\n",
    "        \n",
    "        # Store number and subclass will be passed to embedding layers\n",
    "        stores_train = data.iloc[rows,][\"store_number\"].tolist()\n",
    "        biz_cd_train = data.iloc[rows,][\"biz_cd_int\"].tolist()\n",
    "        \n",
    "        # Scale factor is used to scale training data and will be passed into model\n",
    "        # to be used to rescale the network output\n",
    "        scale_factor = data.iloc[rows,][\"scale_factor\"].tolist()\n",
    "        \n",
    "        # We set the max number of classes to 53\n",
    "        week_train = to_categorical([map(int, [week[-2:] for week in train_cols])], num_classes=53)\n",
    "        week_train = np.reshape(np.repeat(week_train, batchSize, axis=0), (batchSize, windowSize, 53))\n",
    "\n",
    "        week_test = to_categorical([map(int, [week[-2:] for week in test_cols])], num_classes=53)\n",
    "        week_test = np.reshape(np.repeat(week_test, batchSize, axis=0), (batchSize, testSize, 53))\n",
    "        \n",
    "        x_data = data.iloc[rows,][train_cols].div(data.iloc[rows,][\"scale_factor\"], axis = 0).values\n",
    "        x_data = np.reshape(x_data, (batchSize, windowSize, 1))\n",
    "        x_data = np.concatenate((x_data, week_train), axis=2)\n",
    "        \n",
    "        y_data = data.iloc[rows,][test_cols].values\n",
    "        y_data = np.reshape(y_data, (batchSize, testSize, 1))"
   ]
  },
  {
   "cell_type": "code",
   "execution_count": null,
   "metadata": {},
   "outputs": [],
   "source": []
  }
 ],
 "metadata": {
  "kernelspec": {
   "display_name": "Python 2",
   "language": "python",
   "name": "python2"
  },
  "language_info": {
   "codemirror_mode": {
    "name": "ipython",
    "version": 2
   },
   "file_extension": ".py",
   "mimetype": "text/x-python",
   "name": "python",
   "nbconvert_exporter": "python",
   "pygments_lexer": "ipython2",
   "version": "2.7.12"
  }
 },
 "nbformat": 4,
 "nbformat_minor": 2
}
